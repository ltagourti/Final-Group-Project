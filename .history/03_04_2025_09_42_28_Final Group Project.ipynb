{
 "cells": [
  {
   "cell_type": "markdown",
   "id": "14740065-b1da-4575-9120-1ae806e615b3",
   "metadata": {},
   "source": [
    "<div align=\"center\">\n",
    "<h2>Can Age and Experience Predict Playtime? A KNN Regression Analysis of Minecraft Server Data</h2"
   ]
  },
  {
   "cell_type": "markdown",
   "id": "514b0024-15fc-4392-a8de-f24a26834b84",
   "metadata": {},
   "source": [
    "Leena Tagourti, Julie Sieg"
   ]
  },
  {
   "cell_type": "markdown",
   "id": "e764336d-a25c-4688-91c7-1f3062de8012",
   "metadata": {},
   "source": [
    "# Introduction "
   ]
  },
  {
   "attachments": {},
   "cell_type": "markdown",
   "id": "3294dd5e-7ae5-40f4-9492-914657b6e570",
   "metadata": {},
   "source": [
    "**Background**"
   ]
  },
  {
   "cell_type": "markdown",
   "id": "5a8b37d5-3c3f-4307-af28-1a3a3ee6caa6",
   "metadata": {},
   "source": [
    "Understanding the factors that influence player engagement is crucial in the gaming industry, as it informs game design, marketing strategies, and resource allocation. In this study, we explore the predictive relationship between a player's age and experience on the total time they spend playing on a Minecraft server. Specifically, we use k-Nearest Neighbors (KNN) regression to estimate the number of hours a player dedicates to the game based on these demographic factors."
   ]
  },
  {
   "attachments": {},
   "cell_type": "markdown",
   "id": "86e3dcd7-d74f-4b1c-a8f2-2b7ad407e0ec",
   "metadata": {},
   "source": [
    "The Pacific Laboratory for Artificial Intelligence (PLAI) at the University of British Columbia has initiated a project that integrates Minecraft gameplay with artificial intelligence research. By hosting a Minecraft server, PLAI aims to collect detailed gameplay data to advance AI methodologies. Participants register on plaicraft.ai, consent to data collection, and engage in gameplay, contributing valuable data for research purposes. This initiative not only supports AI advancements but also provides players with free access to Minecraft, creating a collaborative research environment."
   ]
  },
  {
   "cell_type": "markdown",
   "id": "7dd8e40a-d628-4da1-a3c7-2d6c0b40d6b0",
   "metadata": {},
   "source": [
    "**Research Question**"
   ]
  },
  {
   "cell_type": "markdown",
   "id": "7614b1e7-3bcd-4ac8-bced-39ac88bb286d",
   "metadata": {},
   "source": [
    "This study seeks to answer the following question: Can a player's age and gaming experience predict the total time they spend playing on the PLAI Minecraft server? By addressing this question, we aim to identify whether these demographic factors are significant indicators of player engagement, which could inform targeted recruitment strategies and resource planning for gaming platforms."
   ]
  },
  {
   "cell_type": "markdown",
   "id": "2b4f120c-767d-4949-87d7-c483a59c03c3",
   "metadata": {},
   "source": [
    "**Data Description**"
   ]
  },
  {
   "attachments": {},
   "cell_type": "markdown",
   "id": "20ea7a89-d96f-4cc8-abbb-6371acb1a147",
   "metadata": {},
   "source": [
    "The dataset utilized in this analysis is made up of player information collected from the PLAI Minecraft server. It includes demographic details such as age and self-reported gaming experience, along with behavioral data like total hours spent on the server. The dataset includes a diverse player base, providing a detailed view of engagement patterns across different age groups and experience levels. Prior to analysis, the data underwent wrangling; cleaning and preprocessing to ensure accuracy and consistency, including handling missing values and standardizing data formats. By making use of KNN regression on this dataset, we aim to uncover the relationship between age, experience, and player engagement, contributing to a deeper understanding of factors influencing gaming behavior."
   ]
  },
  {
   "cell_type": "markdown",
   "id": "3595001d-9aab-4683-9c30-952c7bc34c73",
   "metadata": {},
   "source": [
    "**Table 1: Description of Dataset Variables**"
   ]
  },
  {
   "cell_type": "markdown",
   "id": "7b892757-b037-40a9-b059-02041575fc15",
   "metadata": {},
   "source": [
    "| **Variable Name**     | **Data Type** | **Description**                                                                                   | **Example Value**                                                                                   |\n",
    "|-----------------------|---------------|---------------------------------------------------------------------------------------------------|-----------------------------------------------------------------------------------------------------|\n",
    "| `experience`          | Factor        | Player's self-reported proficiency level in gaming, categorized as 'Amateur' or 'Pro'.            | Pro                                                                                                 |\n",
    "| `subscribe`           | Logical       | Indicates if the player has subscribed to the game-related newsletter (`TRUE` or `FALSE`).        | TRUE                                                                                                |\n",
    "| `hashed_email`        | Character     | Hashed representation of the player's email address for anonymity.                                | f6daba428a5e19a3d47574858c13550499be23603422e6a0ee9728f8b53e192d                                    |\n",
    "| `played_hours`        | Double        | Total number of hours the player has spent on the server.                                         | 30.3                                                                                                |\n",
    "| `name`                | Character     | Player's in-game username.                                                                        | Morgan                                                                                              |\n",
    "| `gender`              | Factor        | Player's self-identified gender.                                                                  | Male                                                                                                |\n",
    "| `age`                 | Double        | Player's age in years.                                                                            | 9                                                                                                   |\n",
    "| `start_time`          | Character     | Start timestamp of a specific gaming session, formatted as 'dd/mm/yyyy hh:mm'.                    | 08/08/2024 00:21                                                                                    |\n",
    "| `end_time`            | Character     | End timestamp of the corresponding gaming session, formatted as 'dd/mm/yyyy hh:mm'.               | 08/08/2024 01:35                                                                                    |\n",
    "| `original_start_time` | Double        | Original start time represented as a Unix timestamp (milliseconds since epoch).                   | 1.72308e+12                                                                                         |\n",
    "| `original_end_time`   | Double        | Original end time represented as a Unix timestamp (milliseconds since epoch).                     | 1.72308e+12                                                                                         |\n"
   ]
  },
  {
   "cell_type": "markdown",
   "id": "a8866b4f-22d9-4c5b-a001-22c0238ca7db",
   "metadata": {},
   "source": [
    "# Methods and Results"
   ]
  },
  {
   "cell_type": "markdown",
   "id": "a368f454-d7e1-4970-8a3f-327b1a4de1d0",
   "metadata": {},
   "source": [
    "#### Load libraries\n",
    "\n",
    "The first step to analyzing our data is to load the necessary packages for plotting, converting strings to date format, and other functions necessary for our code"
   ]
  },
  {
   "cell_type": "code",
   "execution_count": null,
   "id": "ba8367be-4f4c-445d-9b24-a3d4efd07819",
   "metadata": {},
   "outputs": [],
   "source": [
    "library(tidyverse)\n",
    "library(tidymodels)\n",
    "library(gridExtra) \n",
    "library(ggplot2)\n",
    "library(RColorBrewer)\n",
    "library(lubridate)\n",
    "library(repr)\n",
    "options(repr.matrix.max.rows = 6)"
   ]
  },
  {
   "cell_type": "markdown",
   "id": "1b0c6d07-54b3-4593-8938-abd30a59b686",
   "metadata": {},
   "source": [
    "#### Load datasets\n",
    "\n",
    "Next we must load the raw datafiles from the web. Our data is stored in a github repo.There are two datasets, players and sessions, that must be loaded separately. We also print the datasets to determine which variables are stored in each dataframe."
   ]
  },
  {
   "cell_type": "code",
   "execution_count": null,
   "id": "2b96e6a4-f33f-490d-ad5c-3790667b7a94",
   "metadata": {},
   "outputs": [],
   "source": [
    "# Read the files into R\n",
    "url_players <- \"https://raw.githubusercontent.com/JulieSieg/dsci_100_independentproject/refs/heads/main/players.csv\"\n",
    "players <- read_csv(url_players)\n",
    "players\n",
    "\n",
    "url_sessions <- \"https://raw.githubusercontent.com/JulieSieg/dsci_100_independentproject/refs/heads/main/sessions.csv\"\n",
    "sessions <- read_csv(url_sessions)\n",
    "sessions"
   ]
  },
  {
   "cell_type": "markdown",
   "id": "d39a1e1d-1ca0-4eb7-9dcc-05c4a1dfeb43",
   "metadata": {},
   "source": [
    "#### Mutate dates\n",
    "\n",
    "From the printed dataframes above, we can see that the `start_time` and `end_time` data is stored as a character. In order to figure out the total number of minutes played in each session, these columns must first be converted to datetime format. Then we can use `select` to subtract `start_time` from `end_time` to find the total number of minutes played (`time_played`)"
   ]
  },
  {
   "cell_type": "code",
   "execution_count": null,
   "id": "61fbf853-bfed-4a9f-9da5-f0bed970c223",
   "metadata": {},
   "outputs": [],
   "source": [
    "sessions_as_date <- sessions |> \n",
    "    mutate(start_datetime = dmy_hm(start_time)) |>\n",
    "    mutate(end_datetime = dmy_hm(end_time)) |>\n",
    "    mutate(time_played = end_datetime - start_datetime) |>\n",
    "    select(hashedEmail, time_played)\n",
    "\n",
    "sessions_as_date"
   ]
  },
  {
   "cell_type": "markdown",
   "id": "2d84c7d3-7183-4795-aec3-1d4008e7de60",
   "metadata": {},
   "source": [
    "#### Merge datasets\n",
    "\n",
    "Player demographic information is stored in the `players` dataframe, but the data for each session is stored in the `sessions` dataframe. However, both dataframes include a unique `hashedEmail` for each user. Therefore we can merge the two datasets using `hashedEmail` to create `merged_data`. \n",
    "\n",
    "We can then standardize the column names and use `mutate` to determine the number of sessions per player in a new dataframe called `sessions_counts`.\n",
    "\n",
    "We then group by `hashedEmail` and `experience` and use `summarize` to find the total number of minutes played by each player across all of their sessions, creating a new dataframe `played_mins`. \n",
    "\n",
    "We merge the `session_counts` dataframe and the `played_mins` dataframe using the function `left_join`, grouping by `hashedEmail` once again, creating the dataframe `player_sessions`. "
   ]
  },
  {
   "cell_type": "code",
   "execution_count": null,
   "id": "b7d705ac-c4b9-45b3-93e3-4fbe2db3f82c",
   "metadata": {},
   "outputs": [],
   "source": [
    "# Merge the datasets \n",
    "merged_data <- players |>\n",
    "  left_join(sessions_as_date, by = \"hashedEmail\")\n",
    "\n",
    "# Rename columns in merged_data\n",
    "colnames(merged_data) <- c(\"experience\", \"subscribe\", \"hashedEmail\", \"played_hours\", \"name\", \"gender\", \"age\", \n",
    "                           \"time_played\")\n",
    "\n",
    "session_counts <- merged_data |>\n",
    "  group_by(hashedEmail) |>\n",
    "  summarise(total_sessions = n())\n",
    "\n",
    "played_mins <- merged_data |>\n",
    "    group_by(hashedEmail, experience, age) |>\n",
    "    summarize(total_mins = sum(time_played, na.rm = TRUE)) |>\n",
    "    mutate(total_mins = as.numeric(total_mins))\n",
    "\n",
    "player_sessions <- session_counts |>\n",
    "    left_join(played_mins, by = \"hashedEmail\") |>\n",
    "    mutate(experience = as_factor(experience)) |>\n",
    "    drop_na(age)\n",
    "player_sessions"
   ]
  },
  {
   "cell_type": "markdown",
   "id": "be7eafcd-0abf-418a-b7fb-217b2e43b5f9",
   "metadata": {},
   "source": [
    "## Exploratory Visualizations\n",
    "\n",
    "#### Plot total session number\n",
    "\n",
    "To determine if and how total number of session differs by player experience, we use `ggplot` to create a bar graph of the mean number of sessions of players of each experience level"
   ]
  },
  {
   "cell_type": "code",
   "execution_count": null,
   "id": "15d2aaa5-390c-4639-88b7-7ac0dca15569",
   "metadata": {},
   "outputs": [],
   "source": [
    "options(repr.plot.width = 12, repr.plot.height = 5)\n",
    "\n",
    "# Bar plot of total sessions by experience level\n",
    "ggplot(player_sessions, aes(x = experience, y = total_sessions, fill = experience)) +\n",
    "  geom_bar(stat = \"summary\", fun = \"mean\") +\n",
    "  labs(title = \"Average Number of Sessions by Experience Level\",\n",
    "       x = \"Experience Level\",\n",
    "       y = \"Average Number of Sessions\",\n",
    "       fill = \"Experience Level\") +\n",
    "  scale_fill_brewer(palette = \"Set2\") +  \n",
    "  theme(text = element_text(size = 17))"
   ]
  },
  {
   "cell_type": "markdown",
   "id": "de597ec6-edf6-459d-867f-1337cadbdae0",
   "metadata": {},
   "source": [
    "#### Plot total number of minutes played\n",
    "\n",
    "To determine if and how total number of minutes played differs by player experience, we use `ggplot` to create a bar graph of the mean number of minutes played based on experience level"
   ]
  },
  {
   "cell_type": "code",
   "execution_count": null,
   "id": "df12ed54-6235-4b17-8fa1-0965f4cc183e",
   "metadata": {},
   "outputs": [],
   "source": [
    "options(repr.plot.width = 12, repr.plot.height = 8)\n",
    "\n",
    "age_v_hours <- player_sessions |>\n",
    "    ggplot( aes(x = experience, y = total_mins, fill = experience)) +\n",
    "    geom_bar(stat = \"summary\", fun = \"mean\") +\n",
    "    #facet_grid(cols = vars(experience))\t+\n",
    "    ggtitle(\"How the experience of minecraft players predicts the number of hours played\") +  \n",
    "    labs(x = \"Experience of players\", y = \"Mean number of minutes played\", fill = \"Experience Level\") +\n",
    "    theme(text = element_text(size = 17))\n",
    "\n",
    "age_v_hours"
   ]
  },
  {
   "cell_type": "markdown",
   "id": "771ab44f-1cf7-4b45-8e2f-29a5ac97a80f",
   "metadata": {},
   "source": [
    "#### Plot the number of sessions vs the total number of minutes played\n",
    "We use `ggplot` to create a scatterplot graph of how the number of sessions of a user predicts the total number of minutes played. We colour points based on player experience"
   ]
  },
  {
   "cell_type": "code",
   "execution_count": null,
   "id": "e0a48031-87e3-491a-81b4-0cc2fe4679c5",
   "metadata": {},
   "outputs": [],
   "source": [
    "options(repr.plot.width = 14, repr.plot.height = 8)\n",
    "\n",
    "sessions_v_mins <- player_sessions |>\n",
    "    ggplot(aes(x =  total_sessions, y = total_mins, colour = experience)) + \n",
    "    geom_point(size = 3) + \n",
    "    ggtitle(\"How the number of sessions and experience of minecraft players predicts the number of minutes played\") +  \n",
    "    labs(x = \"Number of sesssions\", y = \"Total number of minutes played (min)\", colour = \"Experience of players\") +\n",
    "    theme(text = element_text(size = 15)) \n",
    "   \n",
    "sessions_v_mins\n"
   ]
  },
  {
   "cell_type": "markdown",
   "id": "9c77ae98-a45b-4636-a3e6-c6474c385d0c",
   "metadata": {},
   "source": [
    "#### Log transform the above plot\n",
    "\n",
    "The above graph shows many points clumped around a very low number of minutes played and number of sessions, making it hard to see an overall trend. There are many outliers with a high number of minutes and sessions skewing the graph. We therefore log-transformed the axes to better understand the trends in our data. \n",
    "\n",
    "When both axes are log transformed, the data show a linear trend between number of sessions and total minutes played. "
   ]
  },
  {
   "cell_type": "code",
   "execution_count": null,
   "id": "b55081f6-b43f-4e57-a426-58d80f8cb0da",
   "metadata": {},
   "outputs": [],
   "source": [
    "options(repr.plot.width = 14, repr.plot.height = 8)\n",
    "\n",
    "log_sessions_v_mins <- player_sessions |>\n",
    "    ggplot(aes(x = log(total_sessions), y = log(total_mins), colour = experience)) + \n",
    "    geom_point(size = 3) + \n",
    "    ggtitle(\"How the number of sessions and experience of minecraft players predicts the number of minutes played\") +  \n",
    "    labs(x = \"Log number of sesssions\", y = \"Log total number of minutes played (min)\", colour = \"Experience of players\") +\n",
    "    theme(text = element_text(size = 15))\n",
    "\n",
    "log_sessions_v_mins\n"
   ]
  },
  {
   "cell_type": "markdown",
   "id": "2f42d22b-3891-4ef8-934a-714ea6ddba67",
   "metadata": {},
   "source": [
    "#### Convert experience to a numeric variable\n",
    "\n",
    "To use experience as one of our predictors, we must first convert it from a character variable to a numeric variable using the function `mutate`. Experience is an ordinal categorical variable as there is a clear rank of each experience level. We therefore assign each category a rank based on how experienced they are, from 0 to 4 in the order of Amateur, Begeinner, Regular, Pro, Veteran. "
   ]
  },
  {
   "cell_type": "code",
   "execution_count": null,
   "id": "61bdb916-2847-4081-811a-2a5af96faf96",
   "metadata": {},
   "outputs": [],
   "source": [
    "#convert experience to a numerical variable\n",
    "players_ranked <- player_sessions |>\n",
    "    mutate(experience_rank = case_when(\n",
    "        experience == \"Amateur\"  ~ 0,\n",
    "        experience == \"Beginner\" ~ 1,\n",
    "        experience == \"Regular\"  ~ 2,\n",
    "        experience == \"Pro\"      ~ 3, \n",
    "        experience == \"Veteran\"  ~ 4,\n",
    "    ))"
   ]
  },
  {
   "cell_type": "markdown",
   "id": "1ecf4748-789b-4da7-b192-6fe45b9bf065",
   "metadata": {},
   "source": [
    "### Create a KNN Regression model"
   ]
  },
  {
   "cell_type": "markdown",
   "id": "c2c94c72-f013-40ca-b57a-411bd0e702b7",
   "metadata": {},
   "source": [
    "#### Assign a train-test split\n",
    "To create a knn regression model, we first split our data into a training and testing set using `initial_split`. We use the proportions of 75% to 25% to ensure there is enough data to train the model while leaving enough data to test it as well."
   ]
  },
  {
   "cell_type": "code",
   "execution_count": null,
   "id": "060d5d25-a8cc-498b-8a69-7595961ec818",
   "metadata": {},
   "outputs": [],
   "source": [
    "player_sessions_split <- initial_split(players_ranked, prop = 0.75, strata = total_mins)\n",
    "player_sessions_train <- training(player_sessions_split)\n",
    "player_sessions_test <- testing(player_sessions_split)"
   ]
  },
  {
   "cell_type": "markdown",
   "id": "90e4b341-4021-47e7-a04b-89837fe18f9c",
   "metadata": {},
   "source": [
    "#### Create model, recipe, and workflow\n",
    "\n",
    "First we create the player sessions recipe (called `ps_recipe`) where `total_sessions` and `experience_rank` are used to predict `total_mins`. We scaled and centered by only `total_sessions` as experience is a ranked categorical variable. \n",
    "\n",
    "We then created the model `ps_spec` using the `nearest_neighbors` function and the `\"kknn\"` engine to create a knn regression model. We set the `neighbors = tune()` to determine which number of neighbors (k) best predicts our data. \n",
    "\n",
    "We then added the recipe and model to a workflow titled `ps_wkflw`"
   ]
  },
  {
   "cell_type": "code",
   "execution_count": null,
   "id": "d8968998-53c6-4333-a6bc-4e3129c3a0a1",
   "metadata": {},
   "outputs": [],
   "source": [
    "ps_recipe <- recipe(total_mins ~ total_sessions + experience_rank, data = player_sessions_train) |>\n",
    "    step_scale(all_predictors()) |>\n",
    "    step_center(all_predictors())\n",
    "#check whether or not to use all predictors\n",
    "\n",
    "ps_spec <- nearest_neighbor(weight_func = \"rectangular\", \n",
    "                            neighbors = tune()) |>\n",
    "    set_engine(\"kknn\") |>\n",
    "    set_mode(\"regression\")\n",
    "\n",
    "ps_wkflw <- workflow() |>\n",
    "    add_recipe(ps_recipe) |>\n",
    "    add_model(ps_spec)\n",
    "ps_wkflw"
   ]
  },
  {
   "cell_type": "markdown",
   "id": "a915bdc7-1595-4ee2-8d42-37822b0a1329",
   "metadata": {},
   "source": [
    "#### Use cross validation to find k\n",
    "\n",
    "We first create a tibble called `gridvals` of all the k values we want to test. Since there are 196 rows in our data, we will test up to 98 neighbours. Past 98 nearest neighbours, the model will just return the most common value as more than half the data is being used as a nearest neighbor. We increase the number of neighbors by 2 to reduce the amount of computation necessary by the model. \n",
    "\n",
    "We run cross validation using the function `vfold_cv` with 5 folds to allow for accurate prediction of k that is not biased by a random train - validation split but does not require too much computational power. \n",
    "\n",
    "We then use the function `collect_metrics()` to print the rmse (Root Mean Squared Error) of the model, which can give us an indication on how well our model will perform. "
   ]
  },
  {
   "cell_type": "code",
   "execution_count": null,
   "id": "1d17a1e5-cf1a-41f2-85f4-d083db3a2c15",
   "metadata": {},
   "outputs": [],
   "source": [
    "#compute metrics (RMPSE) to determine the best k\n",
    "\n",
    "set.seed(2019) #set seed\n",
    "# I'll change the gridvalues to ones that make sense later\n",
    "gridvals <- tibble(neighbors = seq(from = 1, to = 98, by = 2))\n",
    "\n",
    "ps_vfold <- vfold_cv(player_sessions_train, v = 5, strata = total_mins)\n",
    "\n",
    "ps_results <- ps_wkflw |>\n",
    "    tune_grid(resamples = ps_vfold, grid = gridvals) |>\n",
    "    collect_metrics()\n",
    "\n",
    "\n",
    "ps_results"
   ]
  },
  {
   "cell_type": "markdown",
   "id": "9e1245cc-75ae-4b67-8f6b-3317f75b106a",
   "metadata": {},
   "source": [
    "#### Choose K\n",
    "\n",
    "We then print the row with the lowest rmse to determine which number of neighbours results in the best model. "
   ]
  },
  {
   "cell_type": "code",
   "execution_count": null,
   "id": "1c737bad-3e0c-4861-b6d1-94e1a2830a99",
   "metadata": {},
   "outputs": [],
   "source": [
    "set.seed(2019)\n",
    "\n",
    "ps_min <- ps_results |>\n",
    "    filter(.metric == \"rmse\") |>\n",
    "    slice_min(mean, n = 1)\n",
    "ps_min"
   ]
  },
  {
   "cell_type": "markdown",
   "id": "aa74ee92-c5eb-4c45-8bae-e0cc1dc8527b",
   "metadata": {},
   "source": [
    "#### Train the KNN regression\n",
    "\n",
    "We then train the KNN regression model using the number iof k we determined to be best above. \n",
    "We train the model on the training dataset from the `player_sessions_train`. \n",
    "\n",
    "We then "
   ]
  },
  {
   "cell_type": "code",
   "execution_count": null,
   "id": "68db4ad6-7b84-4698-8890-6fb0ce1ef8d9",
   "metadata": {},
   "outputs": [],
   "source": [
    "set.seed(1234) # DO NOT REMOVE\n",
    "\n",
    "k_min <- ps_min |>\n",
    "          pull(neighbors)\n",
    "\n",
    "ps_best_spec <- nearest_neighbor(weight_func = \"rectangular\", neighbors = k_min) |>\n",
    "          set_engine(\"kknn\") |>\n",
    "          set_mode(\"regression\")\n",
    "\n",
    "ps_best_fit <- workflow() |>\n",
    "          add_recipe(ps_recipe) |>\n",
    "          add_model(ps_best_spec) |>\n",
    "          fit(data = player_sessions_train)\n",
    "\n",
    "ps_summary <- ps_best_fit |>\n",
    "           predict(player_sessions_test) |>\n",
    "           bind_cols(player_sessions_test) |>\n",
    "           metrics(truth = total_mins, estimate = .pred)\n",
    "\n",
    "# your code here\n",
    "ps_summary"
   ]
  },
  {
   "cell_type": "code",
   "execution_count": null,
   "id": "8707a91e-20be-4d9a-9499-619142a9ba00",
   "metadata": {},
   "outputs": [],
   "source": [
    "set.seed(2019) # DO NOT CHANGE\n",
    "\n",
    "# your code here\n",
    "\n",
    "ps_preds <- ps_best_fit |>\n",
    "           predict(player_sessions_train) |>\n",
    "           bind_cols(player_sessions_train) \n",
    "\n",
    "head(ps_preds)"
   ]
  },
  {
   "cell_type": "code",
   "execution_count": null,
   "id": "a63d0d8f-9234-40d2-898d-225b5cf8a5a0",
   "metadata": {},
   "outputs": [],
   "source": [
    "options(repr.plot.width = 12, repr.plot.height = 8)\n",
    "\n",
    "ps_plot <- ps_preds |>\n",
    "            ggplot(aes(x = log(total_sessions), y = log(total_mins), color = experience)) + \n",
    "            geom_point() + \n",
    "            geom_line(aes(x = log(total_sessions), y = log(.pred)), color = \"blue\") + \n",
    "            ggtitle(\"Predicted total minutes spent playing minecraft by the number of sessions\") +\n",
    "            xlab(\"Log total number of minecraft sessions log(# sessions)\") + \n",
    "            ylab(\"Log predicted total minutes spent playing minecraft log(minutes)\") +\n",
    "            theme(text = element_text(size = 15))\n",
    "\n",
    "\n",
    "ps_plot"
   ]
  },
  {
   "cell_type": "code",
   "execution_count": null,
   "id": "60524bcf-11a2-4230-b80f-3f9443f21ce6",
   "metadata": {},
   "outputs": [],
   "source": []
  },
  {
   "cell_type": "markdown",
   "id": "cfecee2a-3033-44c7-97fa-8aed1533b975",
   "metadata": {},
   "source": [
    "## Using Age and Experience as Predictors for Played hours"
   ]
  },
  {
   "cell_type": "code",
   "execution_count": null,
   "id": "fb77ef55-018c-441f-a795-aaf46991b5f6",
   "metadata": {},
   "outputs": [],
   "source": [
    "#convert experience to a numerical variable\n",
    "players_ranked <- player_sessions |>\n",
    "    mutate(experience_rank = as.numeric(case_when(\n",
    "        experience == \"Amateur\"  ~ 0,\n",
    "        experience == \"Beginner\" ~ 1,\n",
    "        experience == \"Regular\"  ~ 2,\n",
    "        experience == \"Pro\"      ~ 3, \n",
    "        experience == \"Veteran\"  ~ 4)))\n",
    "players_ranked"
   ]
  },
  {
   "cell_type": "code",
   "execution_count": null,
   "id": "73f2f753-bb60-4454-a5d6-563d9dc4e4f6",
   "metadata": {},
   "outputs": [],
   "source": [
    "player_sessions_split <- initial_split(players_ranked, prop = 0.75, strata = total_mins)\n",
    "player_sessions_train <- training(player_sessions_split)\n",
    "player_sessions_test <- testing(player_sessions_split)"
   ]
  },
  {
   "cell_type": "code",
   "execution_count": null,
   "id": "6a625a65-76c4-4570-a0b8-a3ff26f0102c",
   "metadata": {},
   "outputs": [],
   "source": [
    "set.seed(2019)\n",
    "\n",
    "ps_recipe <- recipe(total_mins ~ age + experience_rank, data = player_sessions_train) |>\n",
    "    step_scale(all_predictors()) |>\n",
    "    step_center(all_predictors())\n",
    "#check whether or not to use all predictors\n",
    "\n",
    "ps_spec <- nearest_neighbor(weight_func = \"rectangular\", \n",
    "                            neighbors = tune()) |>\n",
    "    set_engine(\"kknn\") |>\n",
    "    set_mode(\"regression\")\n",
    "\n",
    "ps_vfold <- vfold_cv(player_sessions_train, v = 5, strata = total_mins)\n",
    "\n",
    "ps_wkflw <- workflow() |>\n",
    "    add_recipe(ps_recipe) |>\n",
    "    add_model(ps_spec)\n",
    "ps_wkflw"
   ]
  },
  {
   "cell_type": "code",
   "execution_count": null,
   "id": "8d241e2d-6478-4109-a5dd-6fbd642ec3ec",
   "metadata": {},
   "outputs": [],
   "source": [
    "#compute metrics (RMPSE) to determine the best k\n",
    "\n",
    "set.seed(2019) #set seed\n",
    "# I'll change the gridvalues to ones that make sense later\n",
    "gridvals <- tibble(neighbors = seq(from = 1, to = 98, by = 2))\n",
    "\n",
    "ps_results <- ps_wkflw |>\n",
    "    tune_grid(resamples = ps_vfold, grid = gridvals) |>\n",
    "    collect_metrics()\n",
    "\n",
    "\n",
    "ps_results"
   ]
  },
  {
   "cell_type": "code",
   "execution_count": null,
   "id": "9d1b2e59-f8b7-494b-b43f-0f5f492a946d",
   "metadata": {},
   "outputs": [],
   "source": [
    "#compute metrics (RMPSE) to determine the best k\n",
    "\n",
    "set.seed(2019) #set seed\n",
    "# I'll change the gridvalues to ones that make sense later\n",
    "gridvals <- tibble(neighbors = seq(from = 1, to = 98, by = 2))\n",
    "\n",
    "ps_results <- ps_wkflw |>\n",
    "    tune_grid(resamples = ps_vfold, grid = gridvals) |>\n",
    "    collect_metrics()\n",
    "\n",
    "\n",
    "ps_results"
   ]
  },
  {
   "cell_type": "code",
   "execution_count": null,
   "id": "246e85e3-a61d-42d5-a0cc-646ea55d5be9",
   "metadata": {},
   "outputs": [],
   "source": [
    "set.seed(2019)\n",
    "\n",
    "ps_min <- ps_results |>\n",
    "    filter(.metric == \"rmse\") |>\n",
    "    slice_min(mean, n = 1)\n",
    "ps_min"
   ]
  },
  {
   "cell_type": "code",
   "execution_count": null,
   "id": "60757937-37ca-48b8-9fe1-33b600e05993",
   "metadata": {},
   "outputs": [],
   "source": [
    "set.seed(1234) # DO NOT REMOVE\n",
    "\n",
    "k_min <- ps_min |>\n",
    "          pull(neighbors)\n",
    "\n",
    "ps_best_spec <- nearest_neighbor(weight_func = \"rectangular\", neighbors = k_min) |>\n",
    "          set_engine(\"kknn\") |>\n",
    "          set_mode(\"regression\")\n",
    "\n",
    "ps_best_fit <- workflow() |>\n",
    "          add_recipe(ps_recipe) |>\n",
    "          add_model(ps_best_spec) |>\n",
    "          fit(data = player_sessions_train)\n",
    "\n",
    "ps_summary <- ps_best_fit |>\n",
    "           predict(player_sessions_test) |>\n",
    "           bind_cols(player_sessions_test) |>\n",
    "           metrics(truth = total_mins, estimate = .pred)\n",
    "\n",
    "# your code here\n",
    "ps_summary"
   ]
  }
 ],
 "metadata": {
  "kernelspec": {
   "display_name": "R",
   "language": "R",
   "name": "ir"
  },
  "language_info": {
   "codemirror_mode": "r",
   "file_extension": ".r",
   "mimetype": "text/x-r-source",
   "name": "R",
   "pygments_lexer": "r",
   "version": "4.3.3"
  }
 },
 "nbformat": 4,
 "nbformat_minor": 5
}
