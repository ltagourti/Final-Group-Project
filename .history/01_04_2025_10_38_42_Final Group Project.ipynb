{
 "cells": [
  {
   "cell_type": "markdown",
   "id": "14740065-b1da-4575-9120-1ae806e615b3",
   "metadata": {},
   "source": [
    "<div align=\"center\">\n",
    "<h2>Can Age and Experience Predict Playtime? A KNN Regression Analysis of Minecraft Server Data</h2"
   ]
  },
  {
   "cell_type": "markdown",
   "id": "514b0024-15fc-4392-a8de-f24a26834b84",
   "metadata": {},
   "source": [
    "Leena Tagourti, Julie Sieg, add ur name! "
   ]
  },
  {
   "cell_type": "markdown",
   "id": "e764336d-a25c-4688-91c7-1f3062de8012",
   "metadata": {},
   "source": [
    "# Introduction "
   ]
  },
  {
   "cell_type": "markdown",
   "id": "3294dd5e-7ae5-40f4-9492-914657b6e570",
   "metadata": {},
   "source": [
    "**Background**"
   ]
  },
  {
   "cell_type": "markdown",
   "id": "7dd8e40a-d628-4da1-a3c7-2d6c0b40d6b0",
   "metadata": {},
   "source": [
    "**Research Question**"
   ]
  },
  {
   "cell_type": "markdown",
   "id": "2b4f120c-767d-4949-87d7-c483a59c03c3",
   "metadata": {},
   "source": [
    "**Data Description**"
   ]
  },
  {
   "cell_type": "markdown",
   "id": "3595001d-9aab-4683-9c30-952c7bc34c73",
   "metadata": {},
   "source": [
    "**Table 1: Description of Dataset Variables**"
   ]
  },
  {
   "cell_type": "markdown",
   "id": "7b892757-b037-40a9-b059-02041575fc15",
   "metadata": {},
   "source": [
    "| **Variable Name**     | **Data Type** | **Description**                                                                                   | **Example Value**                                                                                   |\n",
    "|-----------------------|---------------|---------------------------------------------------------------------------------------------------|-----------------------------------------------------------------------------------------------------|\n",
    "| `experience`          | Factor        | Player's self-reported proficiency level in gaming, categorized as 'Amateur' or 'Pro'.            | Pro                                                                                                 |\n",
    "| `subscribe`           | Logical       | Indicates if the player has subscribed to the game-related newsletter (`TRUE` or `FALSE`).        | TRUE                                                                                                |\n",
    "| `hashed_email`        | Character     | Hashed representation of the player's email address for anonymity.                                | f6daba428a5e19a3d47574858c13550499be23603422e6a0ee9728f8b53e192d                                    |\n",
    "| `played_hours`        | Double        | Total number of hours the player has spent on the server.                                         | 30.3                                                                                                |\n",
    "| `name`                | Character     | Player's in-game username.                                                                        | Morgan                                                                                              |\n",
    "| `gender`              | Factor        | Player's self-identified gender.                                                                  | Male                                                                                                |\n",
    "| `age`                 | Double        | Player's age in years.                                                                            | 9                                                                                                   |\n",
    "| `start_time`          | Character     | Start timestamp of a specific gaming session, formatted as 'dd/mm/yyyy hh:mm'.                    | 08/08/2024 00:21                                                                                    |\n",
    "| `end_time`            | Character     | End timestamp of the corresponding gaming session, formatted as 'dd/mm/yyyy hh:mm'.               | 08/08/2024 01:35                                                                                    |\n",
    "| `original_start_time` | Double        | Original start time represented as a Unix timestamp (milliseconds since epoch).                   | 1.72308e+12                                                                                         |\n",
    "| `original_end_time`   | Double        | Original end time represented as a Unix timestamp (milliseconds since epoch).                     | 1.72308e+12                                                                                         |\n"
   ]
  },
  {
   "cell_type": "markdown",
   "id": "a8866b4f-22d9-4c5b-a001-22c0238ca7db",
   "metadata": {},
   "source": [
    "# Methods and Results"
   ]
  },
  {
   "cell_type": "code",
   "execution_count": null,
   "id": "ba8367be-4f4c-445d-9b24-a3d4efd07819",
   "metadata": {},
   "outputs": [],
   "source": [
    "library(tidyverse)\n",
    "library(tidymodels)\n",
    "library(gridExtra) \n",
    "library(ggplot2)\n",
    "library(RColorBrewer)\n",
    "library(lubridate)\n",
    "library(repr)\n",
    "options(repr.matrix.max.rows = 6)"
   ]
  },
  {
   "cell_type": "code",
   "execution_count": null,
   "id": "2b96e6a4-f33f-490d-ad5c-3790667b7a94",
   "metadata": {},
   "outputs": [],
   "source": [
    "# Read the files into R\n",
    "players <- read_csv(\"players.csv\")\n",
    "players\n",
    "sessions <- read_csv(\"sessions.csv\")\n",
    "sessions"
   ]
  },
  {
   "cell_type": "code",
   "execution_count": null,
   "id": "b7d705ac-c4b9-45b3-93e3-4fbe2db3f82c",
   "metadata": {},
   "outputs": [],
   "source": [
    "# Merge the datasets \n",
    "merged_data <- players |>\n",
    "  left_join(sessions, by = \"hashedEmail\")\n",
    "merged_data\n",
    "\n",
    "# Rename columns in merged_data\n",
    "colnames(merged_data) <- c(\"experience\", \"subscribe\", \"hashed_email\", \"played_hours\", \"name\", \"gender\", \"age\", \n",
    "                           \"start_time\", \"end_time\", \"original_start_time\", \"original_end_time\")"
   ]
  },
  {
   "cell_type": "code",
   "execution_count": null,
   "id": "85775b0f-29e6-406e-a5e2-2ba7662203a0",
   "metadata": {},
   "outputs": [],
   "source": [
    "# Change experience and gender to a factor and combine with new column names \n",
    "player_sessions <- merged_data |>\n",
    "  mutate(experience = as_factor(experience),\n",
    "        gender = as_factor(gender)) |>\n",
    "    drop_na(age, start_time, end_time)\n",
    "player_sessions"
   ]
  },
  {
   "cell_type": "markdown",
   "id": "be7eafcd-0abf-418a-b7fb-217b2e43b5f9",
   "metadata": {},
   "source": [
    "**Exploratory Visualizations**"
   ]
  },
  {
   "cell_type": "code",
   "execution_count": null,
   "id": "15d2aaa5-390c-4639-88b7-7ac0dca15569",
   "metadata": {},
   "outputs": [],
   "source": [
    "options(repr.plot.width = 12, repr.plot.height = 5)\n",
    "# Count total sessions per player\n",
    "session_counts <- player_sessions |>\n",
    "  group_by(hashed_email) |>\n",
    "  summarise(total_sessions = n())\n",
    "\n",
    "# Merge session counts with experience level\n",
    "session_experience <- player_sessions |>\n",
    "  select(hashed_email, experience) |>\n",
    "  distinct() |>\n",
    "  left_join(session_counts, by = \"hashed_email\")\n",
    "\n",
    "# Bar plot of total sessions by experience level\n",
    "ggplot(session_experience, aes(x = experience, y = total_sessions, fill = experience)) +\n",
    "  geom_bar(stat = \"summary\", fun = \"mean\") +\n",
    "  labs(title = \"Average Number of Sessions by Experience Level\",\n",
    "       x = \"Experience Level\",\n",
    "       y = \"Average Number of Sessions\",\n",
    "       fill = \"Experience Level\") +\n",
    "  scale_fill_brewer(palette = \"Set2\") +  \n",
    "  theme(text = element_text(size = 17))"
   ]
  },
  {
   "cell_type": "code",
   "execution_count": null,
   "id": "060d5d25-a8cc-498b-8a69-7595961ec818",
   "metadata": {},
   "outputs": [],
   "source": [
    "player_sessions_split <- initial_split(player_sessions, prop = 0.75, strata = played_hours)\n",
    "player_sessions_train <- training(player_sessions_split)\n",
    "player_sessions_test <- testing(player_sessions_split)"
   ]
  },
  {
   "cell_type": "code",
   "execution_count": null,
   "id": "d8968998-53c6-4333-a6bc-4e3129c3a0a1",
   "metadata": {},
   "outputs": [],
   "source": [
    "ps_recipe <- recipe(played_hours ~ age + experience, data = player_sessions_train) |>\n",
    "    step_scale(all_predictors()) |>\n",
    "    step_center(all_predictors())\n",
    "\n",
    "ps_spec <- nearest_neighbor(weight_func = \"rectangular\", \n",
    "                            neighbors = tune()) |>\n",
    "    set_engine(\"kknn\") |>\n",
    "    set_mode(\"regression\")\n",
    "\n",
    "ps_vfold <- vfold_cv(player_sessions_train, v = 5, strata = played_hours)\n",
    "\n",
    "ps_wkflw <- workflow() |>\n",
    "    add_recipe(ps_recipe) |>\n",
    "    add_model(ps_spec)\n",
    "ps_wkflw"
   ]
  },
  {
   "cell_type": "code",
   "execution_count": null,
   "id": "1d17a1e5-cf1a-41f2-85f4-d083db3a2c15",
   "metadata": {},
   "outputs": [],
   "source": [
    "#compute metrics (RMPSE) to determine the best k\n",
    "\n",
    "set.seed(2019) #set seed\n",
    "# I'll change the gridvalues to ones that make sense later\n",
    "gridvals <- tibble(neighbors = seq(from = 1, to = 20, by = 1))\n",
    "\n",
    "ps_results <- ps_wkflw |>\n",
    "    tune_grid(resamples = ps_vfold, grid = gridvals) |>\n",
    "    collect_metrics()\n",
    "\n",
    "\n",
    "ps_results"
   ]
  },
  {
   "cell_type": "code",
   "execution_count": null,
   "id": "1c737bad-3e0c-4861-b6d1-94e1a2830a99",
   "metadata": {},
   "outputs": [],
   "source": []
  }
 ],
 "metadata": {
  "kernelspec": {
   "display_name": "R",
   "language": "R",
   "name": "ir"
  },
  "language_info": {
   "codemirror_mode": "r",
   "file_extension": ".r",
   "mimetype": "text/x-r-source",
   "name": "R",
   "pygments_lexer": "r",
   "version": "4.3.3"
  }
 },
 "nbformat": 4,
 "nbformat_minor": 5
}
