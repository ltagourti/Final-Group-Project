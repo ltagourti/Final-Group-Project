{
 "cells": [
  {
   "cell_type": "markdown",
   "id": "cdbc7e81-3042-4003-a4a4-5b68e4c99093",
   "metadata": {},
   "source": [
    "## Final Group Project"
   ]
  },
  {
   "cell_type": "code",
   "execution_count": null,
   "id": "ba8367be-4f4c-445d-9b24-a3d4efd07819",
   "metadata": {},
   "outputs": [],
   "source": []
  }
 ],
 "metadata": {
  "kernelspec": {
   "display_name": "R",
   "language": "R",
   "name": "ir"
  },
  "language_info": {
   "codemirror_mode": "r",
   "file_extension": ".r",
   "mimetype": "text/x-r-source",
   "name": "R",
   "pygments_lexer": "r",
   "version": "4.3.3"
  }
 },
 "nbformat": 4,
 "nbformat_minor": 5
}
